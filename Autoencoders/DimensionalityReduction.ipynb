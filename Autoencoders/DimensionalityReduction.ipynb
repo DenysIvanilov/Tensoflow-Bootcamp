{
 "cells": [
  {
   "cell_type": "markdown",
   "metadata": {},
   "source": [
    "___\n",
    "\n",
    "<a href='http://www.pieriandata.com'><img src='../Pierian_Data_Logo.png'/></a>\n",
    "___\n",
    "<center><em>Copyright Pierian Data</em></center>\n",
    "<center><em>For more information, visit us at <a href='http://www.pieriandata.com'>www.pieriandata.com</a></em></center>\n",
    "\n",
    "# Autoencoder Exercise"
   ]
  },
  {
   "cell_type": "markdown",
   "metadata": {},
   "source": [
    "## Complete the Tasks Below\n",
    "\n",
    "**TASK: Run the imports below**"
   ]
  },
  {
   "cell_type": "code",
   "execution_count": 1,
   "metadata": {},
   "outputs": [],
   "source": [
    "import pandas as pd\n",
    "import seaborn as sns\n",
    "import matplotlib.pyplot as plt"
   ]
  },
  {
   "cell_type": "markdown",
   "metadata": {},
   "source": [
    "## The Data\n",
    "\n",
    " In the table is the average consumption of 17 types of food in grams per person per week for every country in the UK.\n",
    "\n",
    "The table shows some interesting variations across different food types, but overall differences aren't so notable. \n",
    "\n",
    "**TASK: Run the import line below to read in the data**"
   ]
  },
  {
   "cell_type": "code",
   "execution_count": 2,
   "metadata": {},
   "outputs": [],
   "source": [
    "df = pd.read_csv('../DATA/UK_foods.csv',index_col='Unnamed: 0')"
   ]
  },
  {
   "cell_type": "markdown",
   "metadata": {},
   "source": [
    "**TASK: Display the DataFrame**"
   ]
  },
  {
   "cell_type": "code",
   "execution_count": 3,
   "metadata": {},
   "outputs": [
    {
     "data": {
      "text/html": [
       "<div>\n",
       "<style scoped>\n",
       "    .dataframe tbody tr th:only-of-type {\n",
       "        vertical-align: middle;\n",
       "    }\n",
       "\n",
       "    .dataframe tbody tr th {\n",
       "        vertical-align: top;\n",
       "    }\n",
       "\n",
       "    .dataframe thead th {\n",
       "        text-align: right;\n",
       "    }\n",
       "</style>\n",
       "<table border=\"1\" class=\"dataframe\">\n",
       "  <thead>\n",
       "    <tr style=\"text-align: right;\">\n",
       "      <th></th>\n",
       "      <th>England</th>\n",
       "      <th>Wales</th>\n",
       "      <th>Scotland</th>\n",
       "      <th>N.Ireland</th>\n",
       "    </tr>\n",
       "  </thead>\n",
       "  <tbody>\n",
       "    <tr>\n",
       "      <th>Cheese</th>\n",
       "      <td>105</td>\n",
       "      <td>103</td>\n",
       "      <td>103</td>\n",
       "      <td>66</td>\n",
       "    </tr>\n",
       "    <tr>\n",
       "      <th>Carcass_meat</th>\n",
       "      <td>245</td>\n",
       "      <td>227</td>\n",
       "      <td>242</td>\n",
       "      <td>267</td>\n",
       "    </tr>\n",
       "    <tr>\n",
       "      <th>Other_meat</th>\n",
       "      <td>685</td>\n",
       "      <td>803</td>\n",
       "      <td>750</td>\n",
       "      <td>586</td>\n",
       "    </tr>\n",
       "    <tr>\n",
       "      <th>Fish</th>\n",
       "      <td>147</td>\n",
       "      <td>160</td>\n",
       "      <td>122</td>\n",
       "      <td>93</td>\n",
       "    </tr>\n",
       "    <tr>\n",
       "      <th>Fats_and_oils</th>\n",
       "      <td>193</td>\n",
       "      <td>235</td>\n",
       "      <td>184</td>\n",
       "      <td>209</td>\n",
       "    </tr>\n",
       "    <tr>\n",
       "      <th>Sugars</th>\n",
       "      <td>156</td>\n",
       "      <td>175</td>\n",
       "      <td>147</td>\n",
       "      <td>139</td>\n",
       "    </tr>\n",
       "    <tr>\n",
       "      <th>Fresh_potatoes</th>\n",
       "      <td>720</td>\n",
       "      <td>874</td>\n",
       "      <td>566</td>\n",
       "      <td>1033</td>\n",
       "    </tr>\n",
       "    <tr>\n",
       "      <th>Fresh_Veg</th>\n",
       "      <td>253</td>\n",
       "      <td>265</td>\n",
       "      <td>171</td>\n",
       "      <td>143</td>\n",
       "    </tr>\n",
       "    <tr>\n",
       "      <th>Other_Veg</th>\n",
       "      <td>488</td>\n",
       "      <td>570</td>\n",
       "      <td>418</td>\n",
       "      <td>355</td>\n",
       "    </tr>\n",
       "    <tr>\n",
       "      <th>Processed_potatoes</th>\n",
       "      <td>198</td>\n",
       "      <td>203</td>\n",
       "      <td>220</td>\n",
       "      <td>187</td>\n",
       "    </tr>\n",
       "    <tr>\n",
       "      <th>Processed_Veg</th>\n",
       "      <td>360</td>\n",
       "      <td>365</td>\n",
       "      <td>337</td>\n",
       "      <td>334</td>\n",
       "    </tr>\n",
       "    <tr>\n",
       "      <th>Fresh_fruit</th>\n",
       "      <td>1102</td>\n",
       "      <td>1137</td>\n",
       "      <td>957</td>\n",
       "      <td>674</td>\n",
       "    </tr>\n",
       "    <tr>\n",
       "      <th>Cereals</th>\n",
       "      <td>1472</td>\n",
       "      <td>1582</td>\n",
       "      <td>1462</td>\n",
       "      <td>1494</td>\n",
       "    </tr>\n",
       "    <tr>\n",
       "      <th>Beverages</th>\n",
       "      <td>57</td>\n",
       "      <td>73</td>\n",
       "      <td>53</td>\n",
       "      <td>47</td>\n",
       "    </tr>\n",
       "    <tr>\n",
       "      <th>Soft_drinks</th>\n",
       "      <td>1374</td>\n",
       "      <td>1256</td>\n",
       "      <td>1572</td>\n",
       "      <td>1506</td>\n",
       "    </tr>\n",
       "    <tr>\n",
       "      <th>Alcoholic_drinks</th>\n",
       "      <td>375</td>\n",
       "      <td>475</td>\n",
       "      <td>458</td>\n",
       "      <td>135</td>\n",
       "    </tr>\n",
       "    <tr>\n",
       "      <th>Confectionery</th>\n",
       "      <td>54</td>\n",
       "      <td>64</td>\n",
       "      <td>62</td>\n",
       "      <td>41</td>\n",
       "    </tr>\n",
       "  </tbody>\n",
       "</table>\n",
       "</div>"
      ],
      "text/plain": [
       "                     England  Wales  Scotland  N.Ireland\n",
       "Cheese                   105    103       103         66\n",
       "Carcass_meat             245    227       242        267\n",
       "Other_meat               685    803       750        586\n",
       "Fish                     147    160       122         93\n",
       "Fats_and_oils            193    235       184        209\n",
       "Sugars                   156    175       147        139\n",
       "Fresh_potatoes           720    874       566       1033\n",
       "Fresh_Veg                253    265       171        143\n",
       "Other_Veg                488    570       418        355\n",
       "Processed_potatoes       198    203       220        187\n",
       "Processed_Veg            360    365       337        334\n",
       "Fresh_fruit             1102   1137       957        674\n",
       "Cereals                 1472   1582      1462       1494\n",
       "Beverages                 57     73        53         47\n",
       "Soft_drinks             1374   1256      1572       1506\n",
       "Alcoholic_drinks         375    475       458        135\n",
       "Confectionery             54     64        62         41"
      ]
     },
     "execution_count": 3,
     "metadata": {},
     "output_type": "execute_result"
    }
   ],
   "source": [
    "df"
   ]
  },
  {
   "cell_type": "code",
   "execution_count": 4,
   "metadata": {},
   "outputs": [
    {
     "data": {
      "text/html": [
       "<div>\n",
       "<style scoped>\n",
       "    .dataframe tbody tr th:only-of-type {\n",
       "        vertical-align: middle;\n",
       "    }\n",
       "\n",
       "    .dataframe tbody tr th {\n",
       "        vertical-align: top;\n",
       "    }\n",
       "\n",
       "    .dataframe thead th {\n",
       "        text-align: right;\n",
       "    }\n",
       "</style>\n",
       "<table border=\"1\" class=\"dataframe\">\n",
       "  <thead>\n",
       "    <tr style=\"text-align: right;\">\n",
       "      <th></th>\n",
       "      <th>England</th>\n",
       "      <th>Wales</th>\n",
       "      <th>Scotland</th>\n",
       "      <th>N.Ireland</th>\n",
       "    </tr>\n",
       "  </thead>\n",
       "  <tbody>\n",
       "    <tr>\n",
       "      <th>Cheese</th>\n",
       "      <td>105</td>\n",
       "      <td>103</td>\n",
       "      <td>103</td>\n",
       "      <td>66</td>\n",
       "    </tr>\n",
       "    <tr>\n",
       "      <th>Carcass_meat</th>\n",
       "      <td>245</td>\n",
       "      <td>227</td>\n",
       "      <td>242</td>\n",
       "      <td>267</td>\n",
       "    </tr>\n",
       "    <tr>\n",
       "      <th>Other_meat</th>\n",
       "      <td>685</td>\n",
       "      <td>803</td>\n",
       "      <td>750</td>\n",
       "      <td>586</td>\n",
       "    </tr>\n",
       "    <tr>\n",
       "      <th>Fish</th>\n",
       "      <td>147</td>\n",
       "      <td>160</td>\n",
       "      <td>122</td>\n",
       "      <td>93</td>\n",
       "    </tr>\n",
       "    <tr>\n",
       "      <th>Fats_and_oils</th>\n",
       "      <td>193</td>\n",
       "      <td>235</td>\n",
       "      <td>184</td>\n",
       "      <td>209</td>\n",
       "    </tr>\n",
       "    <tr>\n",
       "      <th>Sugars</th>\n",
       "      <td>156</td>\n",
       "      <td>175</td>\n",
       "      <td>147</td>\n",
       "      <td>139</td>\n",
       "    </tr>\n",
       "    <tr>\n",
       "      <th>Fresh_potatoes</th>\n",
       "      <td>720</td>\n",
       "      <td>874</td>\n",
       "      <td>566</td>\n",
       "      <td>1033</td>\n",
       "    </tr>\n",
       "    <tr>\n",
       "      <th>Fresh_Veg</th>\n",
       "      <td>253</td>\n",
       "      <td>265</td>\n",
       "      <td>171</td>\n",
       "      <td>143</td>\n",
       "    </tr>\n",
       "    <tr>\n",
       "      <th>Other_Veg</th>\n",
       "      <td>488</td>\n",
       "      <td>570</td>\n",
       "      <td>418</td>\n",
       "      <td>355</td>\n",
       "    </tr>\n",
       "    <tr>\n",
       "      <th>Processed_potatoes</th>\n",
       "      <td>198</td>\n",
       "      <td>203</td>\n",
       "      <td>220</td>\n",
       "      <td>187</td>\n",
       "    </tr>\n",
       "    <tr>\n",
       "      <th>Processed_Veg</th>\n",
       "      <td>360</td>\n",
       "      <td>365</td>\n",
       "      <td>337</td>\n",
       "      <td>334</td>\n",
       "    </tr>\n",
       "    <tr>\n",
       "      <th>Fresh_fruit</th>\n",
       "      <td>1102</td>\n",
       "      <td>1137</td>\n",
       "      <td>957</td>\n",
       "      <td>674</td>\n",
       "    </tr>\n",
       "    <tr>\n",
       "      <th>Cereals</th>\n",
       "      <td>1472</td>\n",
       "      <td>1582</td>\n",
       "      <td>1462</td>\n",
       "      <td>1494</td>\n",
       "    </tr>\n",
       "    <tr>\n",
       "      <th>Beverages</th>\n",
       "      <td>57</td>\n",
       "      <td>73</td>\n",
       "      <td>53</td>\n",
       "      <td>47</td>\n",
       "    </tr>\n",
       "    <tr>\n",
       "      <th>Soft_drinks</th>\n",
       "      <td>1374</td>\n",
       "      <td>1256</td>\n",
       "      <td>1572</td>\n",
       "      <td>1506</td>\n",
       "    </tr>\n",
       "    <tr>\n",
       "      <th>Alcoholic_drinks</th>\n",
       "      <td>375</td>\n",
       "      <td>475</td>\n",
       "      <td>458</td>\n",
       "      <td>135</td>\n",
       "    </tr>\n",
       "    <tr>\n",
       "      <th>Confectionery</th>\n",
       "      <td>54</td>\n",
       "      <td>64</td>\n",
       "      <td>62</td>\n",
       "      <td>41</td>\n",
       "    </tr>\n",
       "  </tbody>\n",
       "</table>\n",
       "</div>"
      ],
      "text/plain": [
       "                     England  Wales  Scotland  N.Ireland\n",
       "Cheese                   105    103       103         66\n",
       "Carcass_meat             245    227       242        267\n",
       "Other_meat               685    803       750        586\n",
       "Fish                     147    160       122         93\n",
       "Fats_and_oils            193    235       184        209\n",
       "Sugars                   156    175       147        139\n",
       "Fresh_potatoes           720    874       566       1033\n",
       "Fresh_Veg                253    265       171        143\n",
       "Other_Veg                488    570       418        355\n",
       "Processed_potatoes       198    203       220        187\n",
       "Processed_Veg            360    365       337        334\n",
       "Fresh_fruit             1102   1137       957        674\n",
       "Cereals                 1472   1582      1462       1494\n",
       "Beverages                 57     73        53         47\n",
       "Soft_drinks             1374   1256      1572       1506\n",
       "Alcoholic_drinks         375    475       458        135\n",
       "Confectionery             54     64        62         41"
      ]
     },
     "execution_count": 4,
     "metadata": {},
     "output_type": "execute_result"
    }
   ],
   "source": []
  },
  {
   "cell_type": "markdown",
   "metadata": {},
   "source": [
    "**TASK: Transpose the DataFrame so that the columns are now the index.**"
   ]
  },
  {
   "cell_type": "code",
   "execution_count": 4,
   "metadata": {},
   "outputs": [
    {
     "data": {
      "text/html": [
       "<div>\n",
       "<style scoped>\n",
       "    .dataframe tbody tr th:only-of-type {\n",
       "        vertical-align: middle;\n",
       "    }\n",
       "\n",
       "    .dataframe tbody tr th {\n",
       "        vertical-align: top;\n",
       "    }\n",
       "\n",
       "    .dataframe thead th {\n",
       "        text-align: right;\n",
       "    }\n",
       "</style>\n",
       "<table border=\"1\" class=\"dataframe\">\n",
       "  <thead>\n",
       "    <tr style=\"text-align: right;\">\n",
       "      <th></th>\n",
       "      <th>Cheese</th>\n",
       "      <th>Carcass_meat</th>\n",
       "      <th>Other_meat</th>\n",
       "      <th>Fish</th>\n",
       "      <th>Fats_and_oils</th>\n",
       "      <th>Sugars</th>\n",
       "      <th>Fresh_potatoes</th>\n",
       "      <th>Fresh_Veg</th>\n",
       "      <th>Other_Veg</th>\n",
       "      <th>Processed_potatoes</th>\n",
       "      <th>Processed_Veg</th>\n",
       "      <th>Fresh_fruit</th>\n",
       "      <th>Cereals</th>\n",
       "      <th>Beverages</th>\n",
       "      <th>Soft_drinks</th>\n",
       "      <th>Alcoholic_drinks</th>\n",
       "      <th>Confectionery</th>\n",
       "    </tr>\n",
       "  </thead>\n",
       "  <tbody>\n",
       "    <tr>\n",
       "      <th>England</th>\n",
       "      <td>105</td>\n",
       "      <td>245</td>\n",
       "      <td>685</td>\n",
       "      <td>147</td>\n",
       "      <td>193</td>\n",
       "      <td>156</td>\n",
       "      <td>720</td>\n",
       "      <td>253</td>\n",
       "      <td>488</td>\n",
       "      <td>198</td>\n",
       "      <td>360</td>\n",
       "      <td>1102</td>\n",
       "      <td>1472</td>\n",
       "      <td>57</td>\n",
       "      <td>1374</td>\n",
       "      <td>375</td>\n",
       "      <td>54</td>\n",
       "    </tr>\n",
       "    <tr>\n",
       "      <th>Wales</th>\n",
       "      <td>103</td>\n",
       "      <td>227</td>\n",
       "      <td>803</td>\n",
       "      <td>160</td>\n",
       "      <td>235</td>\n",
       "      <td>175</td>\n",
       "      <td>874</td>\n",
       "      <td>265</td>\n",
       "      <td>570</td>\n",
       "      <td>203</td>\n",
       "      <td>365</td>\n",
       "      <td>1137</td>\n",
       "      <td>1582</td>\n",
       "      <td>73</td>\n",
       "      <td>1256</td>\n",
       "      <td>475</td>\n",
       "      <td>64</td>\n",
       "    </tr>\n",
       "    <tr>\n",
       "      <th>Scotland</th>\n",
       "      <td>103</td>\n",
       "      <td>242</td>\n",
       "      <td>750</td>\n",
       "      <td>122</td>\n",
       "      <td>184</td>\n",
       "      <td>147</td>\n",
       "      <td>566</td>\n",
       "      <td>171</td>\n",
       "      <td>418</td>\n",
       "      <td>220</td>\n",
       "      <td>337</td>\n",
       "      <td>957</td>\n",
       "      <td>1462</td>\n",
       "      <td>53</td>\n",
       "      <td>1572</td>\n",
       "      <td>458</td>\n",
       "      <td>62</td>\n",
       "    </tr>\n",
       "    <tr>\n",
       "      <th>N.Ireland</th>\n",
       "      <td>66</td>\n",
       "      <td>267</td>\n",
       "      <td>586</td>\n",
       "      <td>93</td>\n",
       "      <td>209</td>\n",
       "      <td>139</td>\n",
       "      <td>1033</td>\n",
       "      <td>143</td>\n",
       "      <td>355</td>\n",
       "      <td>187</td>\n",
       "      <td>334</td>\n",
       "      <td>674</td>\n",
       "      <td>1494</td>\n",
       "      <td>47</td>\n",
       "      <td>1506</td>\n",
       "      <td>135</td>\n",
       "      <td>41</td>\n",
       "    </tr>\n",
       "  </tbody>\n",
       "</table>\n",
       "</div>"
      ],
      "text/plain": [
       "           Cheese  Carcass_meat   Other_meat   Fish  Fats_and_oils   Sugars  \\\n",
       "England       105            245          685   147             193     156   \n",
       "Wales         103            227          803   160             235     175   \n",
       "Scotland      103            242          750   122             184     147   \n",
       "N.Ireland      66            267          586    93             209     139   \n",
       "\n",
       "           Fresh_potatoes   Fresh_Veg   Other_Veg   Processed_potatoes   \\\n",
       "England                720         253         488                  198   \n",
       "Wales                  874         265         570                  203   \n",
       "Scotland               566         171         418                  220   \n",
       "N.Ireland             1033         143         355                  187   \n",
       "\n",
       "           Processed_Veg   Fresh_fruit   Cereals   Beverages  Soft_drinks   \\\n",
       "England               360          1102      1472         57          1374   \n",
       "Wales                 365          1137      1582         73          1256   \n",
       "Scotland              337           957      1462         53          1572   \n",
       "N.Ireland             334           674      1494         47          1506   \n",
       "\n",
       "           Alcoholic_drinks   Confectionery   \n",
       "England                  375              54  \n",
       "Wales                    475              64  \n",
       "Scotland                 458              62  \n",
       "N.Ireland                135              41  "
      ]
     },
     "execution_count": 4,
     "metadata": {},
     "output_type": "execute_result"
    }
   ],
   "source": [
    "df.transpose()"
   ]
  },
  {
   "cell_type": "code",
   "execution_count": 6,
   "metadata": {},
   "outputs": [
    {
     "data": {
      "text/html": [
       "<div>\n",
       "<style scoped>\n",
       "    .dataframe tbody tr th:only-of-type {\n",
       "        vertical-align: middle;\n",
       "    }\n",
       "\n",
       "    .dataframe tbody tr th {\n",
       "        vertical-align: top;\n",
       "    }\n",
       "\n",
       "    .dataframe thead th {\n",
       "        text-align: right;\n",
       "    }\n",
       "</style>\n",
       "<table border=\"1\" class=\"dataframe\">\n",
       "  <thead>\n",
       "    <tr style=\"text-align: right;\">\n",
       "      <th></th>\n",
       "      <th>Cheese</th>\n",
       "      <th>Carcass_meat</th>\n",
       "      <th>Other_meat</th>\n",
       "      <th>Fish</th>\n",
       "      <th>Fats_and_oils</th>\n",
       "      <th>Sugars</th>\n",
       "      <th>Fresh_potatoes</th>\n",
       "      <th>Fresh_Veg</th>\n",
       "      <th>Other_Veg</th>\n",
       "      <th>Processed_potatoes</th>\n",
       "      <th>Processed_Veg</th>\n",
       "      <th>Fresh_fruit</th>\n",
       "      <th>Cereals</th>\n",
       "      <th>Beverages</th>\n",
       "      <th>Soft_drinks</th>\n",
       "      <th>Alcoholic_drinks</th>\n",
       "      <th>Confectionery</th>\n",
       "    </tr>\n",
       "  </thead>\n",
       "  <tbody>\n",
       "    <tr>\n",
       "      <th>England</th>\n",
       "      <td>105</td>\n",
       "      <td>245</td>\n",
       "      <td>685</td>\n",
       "      <td>147</td>\n",
       "      <td>193</td>\n",
       "      <td>156</td>\n",
       "      <td>720</td>\n",
       "      <td>253</td>\n",
       "      <td>488</td>\n",
       "      <td>198</td>\n",
       "      <td>360</td>\n",
       "      <td>1102</td>\n",
       "      <td>1472</td>\n",
       "      <td>57</td>\n",
       "      <td>1374</td>\n",
       "      <td>375</td>\n",
       "      <td>54</td>\n",
       "    </tr>\n",
       "    <tr>\n",
       "      <th>Wales</th>\n",
       "      <td>103</td>\n",
       "      <td>227</td>\n",
       "      <td>803</td>\n",
       "      <td>160</td>\n",
       "      <td>235</td>\n",
       "      <td>175</td>\n",
       "      <td>874</td>\n",
       "      <td>265</td>\n",
       "      <td>570</td>\n",
       "      <td>203</td>\n",
       "      <td>365</td>\n",
       "      <td>1137</td>\n",
       "      <td>1582</td>\n",
       "      <td>73</td>\n",
       "      <td>1256</td>\n",
       "      <td>475</td>\n",
       "      <td>64</td>\n",
       "    </tr>\n",
       "    <tr>\n",
       "      <th>Scotland</th>\n",
       "      <td>103</td>\n",
       "      <td>242</td>\n",
       "      <td>750</td>\n",
       "      <td>122</td>\n",
       "      <td>184</td>\n",
       "      <td>147</td>\n",
       "      <td>566</td>\n",
       "      <td>171</td>\n",
       "      <td>418</td>\n",
       "      <td>220</td>\n",
       "      <td>337</td>\n",
       "      <td>957</td>\n",
       "      <td>1462</td>\n",
       "      <td>53</td>\n",
       "      <td>1572</td>\n",
       "      <td>458</td>\n",
       "      <td>62</td>\n",
       "    </tr>\n",
       "    <tr>\n",
       "      <th>N.Ireland</th>\n",
       "      <td>66</td>\n",
       "      <td>267</td>\n",
       "      <td>586</td>\n",
       "      <td>93</td>\n",
       "      <td>209</td>\n",
       "      <td>139</td>\n",
       "      <td>1033</td>\n",
       "      <td>143</td>\n",
       "      <td>355</td>\n",
       "      <td>187</td>\n",
       "      <td>334</td>\n",
       "      <td>674</td>\n",
       "      <td>1494</td>\n",
       "      <td>47</td>\n",
       "      <td>1506</td>\n",
       "      <td>135</td>\n",
       "      <td>41</td>\n",
       "    </tr>\n",
       "  </tbody>\n",
       "</table>\n",
       "</div>"
      ],
      "text/plain": [
       "           Cheese  Carcass_meat   Other_meat   Fish  Fats_and_oils   Sugars  \\\n",
       "England       105            245          685   147             193     156   \n",
       "Wales         103            227          803   160             235     175   \n",
       "Scotland      103            242          750   122             184     147   \n",
       "N.Ireland      66            267          586    93             209     139   \n",
       "\n",
       "           Fresh_potatoes   Fresh_Veg   Other_Veg   Processed_potatoes   \\\n",
       "England                720         253         488                  198   \n",
       "Wales                  874         265         570                  203   \n",
       "Scotland               566         171         418                  220   \n",
       "N.Ireland             1033         143         355                  187   \n",
       "\n",
       "           Processed_Veg   Fresh_fruit   Cereals   Beverages  Soft_drinks   \\\n",
       "England               360          1102      1472         57          1374   \n",
       "Wales                 365          1137      1582         73          1256   \n",
       "Scotland              337           957      1462         53          1572   \n",
       "N.Ireland             334           674      1494         47          1506   \n",
       "\n",
       "           Alcoholic_drinks   Confectionery   \n",
       "England                  375              54  \n",
       "Wales                    475              64  \n",
       "Scotland                 458              62  \n",
       "N.Ireland                135              41  "
      ]
     },
     "execution_count": 6,
     "metadata": {},
     "output_type": "execute_result"
    }
   ],
   "source": []
  },
  {
   "cell_type": "markdown",
   "metadata": {},
   "source": [
    "**TASK: Create a heatmap from the DataFrame. Does any country really stand out as different than the others? It should be tricky to tell just from the image. Do any two countries appear to be very similar?**"
   ]
  },
  {
   "cell_type": "code",
   "execution_count": 7,
   "metadata": {},
   "outputs": [
    {
     "data": {
      "text/plain": [
       "<AxesSubplot:>"
      ]
     },
     "execution_count": 7,
     "metadata": {},
     "output_type": "execute_result"
    },
    {
     "data": {
      "image/png": "[encoded data removed]",
      "text/plain": [
       "<Figure size 864x576 with 2 Axes>"
      ]
     },
     "metadata": {
      "needs_background": "light"
     },
     "output_type": "display_data"
    }
   ],
   "source": [
    "plt.figure(figsize=(12,8))\n",
    "sns.heatmap(data=df)"
   ]
  },
  {
   "cell_type": "code",
   "execution_count": 8,
   "metadata": {},
   "outputs": [
    {
     "data": {
      "text/plain": [
       "<matplotlib.axes._subplots.AxesSubplot at 0x161e109b348>"
      ]
     },
     "execution_count": 8,
     "metadata": {},
     "output_type": "execute_result"
    },
    {
     "data": {
      "image/png": "[encoded data removed]",
      "text/plain": [
       "<Figure size 720x576 with 2 Axes>"
      ]
     },
     "metadata": {
      "needs_background": "light"
     },
     "output_type": "display_data"
    }
   ],
   "source": []
  },
  {
   "cell_type": "markdown",
   "metadata": {},
   "source": [
    "**TASK: Run the imports necessary to build an autoencoder. Our goal will be to reduce the dimensions from 17 --> 2 and see if any countries stand out as very different.**"
   ]
  },
  {
   "cell_type": "code",
   "execution_count": 9,
   "metadata": {},
   "outputs": [],
   "source": [
    "from tensorflow.keras.models import Sequential\n",
    "from tensorflow.keras.layers import Dense"
   ]
  },
  {
   "cell_type": "code",
   "execution_count": 10,
   "metadata": {},
   "outputs": [],
   "source": []
  },
  {
   "cell_type": "markdown",
   "metadata": {},
   "source": [
    "**TASK: Create an encoder. In the solutions we built one that went 17 --> 8 --> 4 --> 2**"
   ]
  },
  {
   "cell_type": "code",
   "execution_count": 38,
   "metadata": {},
   "outputs": [],
   "source": [
    "encoder = Sequential()\n",
    "\n",
    "encoder.add(Dense(units=8,activation='relu',input_shape=[17]))\n",
    "encoder.add(Dense(units=4,activation='relu',input_shape=[8]))\n",
    "encoder.add(Dense(units=2,activation='relu',input_shape=[4]))"
   ]
  },
  {
   "cell_type": "markdown",
   "metadata": {},
   "source": [
    "**TASK: Create a decoder. In the solutions we built one that went 2-->4-->8-->17**"
   ]
  },
  {
   "cell_type": "code",
   "execution_count": 39,
   "metadata": {},
   "outputs": [],
   "source": [
    "decoder = Sequential()\n",
    "decoder.add(Dense(units=4,activation='relu',input_shape=[2]))\n",
    "decoder.add(Dense(units=8,activation='relu',input_shape=[4]))\n",
    "decoder.add(Dense(units=17,activation='relu',input_shape=[8]))"
   ]
  },
  {
   "cell_type": "markdown",
   "metadata": {},
   "source": [
    "**TASK: Combine the encoder and decoder to be an autoencoder and compile the model.**"
   ]
  },
  {
   "cell_type": "code",
   "execution_count": 40,
   "metadata": {},
   "outputs": [
    {
     "name": "stdout",
     "output_type": "stream",
     "text": [
      "Model: \"sequential_20\"\n",
      "_________________________________________________________________\n",
      " Layer (type)                Output Shape              Param #   \n",
      "=================================================================\n",
      " sequential_18 (Sequential)  (None, 2)                 190       \n",
      "                                                                 \n",
      " sequential_19 (Sequential)  (None, 17)                205       \n",
      "                                                                 \n",
      "=================================================================\n",
      "Total params: 395\n",
      "Trainable params: 395\n",
      "Non-trainable params: 0\n",
      "_________________________________________________________________\n"
     ]
    }
   ],
   "source": [
    "from tensorflow.keras.optimizers import SGD\n",
    "autoencoder = Sequential([encoder,decoder])\n",
    "autoencoder.compile(loss='mse',optimizer=SGD(learning_rate=1.2))\n",
    "autoencoder.summary()"
   ]
  },
  {
   "cell_type": "markdown",
   "metadata": {},
   "source": [
    "**TASK: Create a MinMaxScaler to scale the data. Make sure to transpose the data, since we really have 17 feature columns and only 4 rows (one per country).**"
   ]
  },
  {
   "cell_type": "code",
   "execution_count": 26,
   "metadata": {},
   "outputs": [],
   "source": [
    "from sklearn.preprocessing import MinMaxScaler"
   ]
  },
  {
   "cell_type": "code",
   "execution_count": 27,
   "metadata": {},
   "outputs": [],
   "source": [
    "scaler = MinMaxScaler()"
   ]
  },
  {
   "cell_type": "code",
   "execution_count": 30,
   "metadata": {},
   "outputs": [],
   "source": [
    "scaled_data = scaler.fit_transform(df.transpose())"
   ]
  },
  {
   "cell_type": "code",
   "execution_count": 31,
   "metadata": {},
   "outputs": [
    {
     "data": {
      "text/plain": [
       "array([[1.        , 0.45      , 0.4562212 , 0.80597015, 0.17647059,\n",
       "        0.47222222, 0.32976445, 0.90163934, 0.61860465, 0.33333333,\n",
       "        0.83870968, 0.92440605, 0.08333333, 0.38461538, 0.37341772,\n",
       "        0.70588235, 0.56521739],\n",
       "       [0.94871795, 0.        , 1.        , 1.        , 1.        ,\n",
       "        1.        , 0.65952891, 1.        , 1.        , 0.48484848,\n",
       "        1.        , 1.        , 1.        , 1.        , 0.        ,\n",
       "        1.        , 1.        ],\n",
       "       [0.94871795, 0.375     , 0.75576037, 0.43283582, 0.        ,\n",
       "        0.22222222, 0.        , 0.2295082 , 0.29302326, 1.        ,\n",
       "        0.09677419, 0.6112311 , 0.        , 0.23076923, 1.        ,\n",
       "        0.95      , 0.91304348],\n",
       "       [0.        , 1.        , 0.        , 0.        , 0.49019608,\n",
       "        0.        , 1.        , 0.        , 0.        , 0.        ,\n",
       "        0.        , 0.        , 0.26666667, 0.        , 0.79113924,\n",
       "        0.        , 0.        ]])"
      ]
     },
     "execution_count": 31,
     "metadata": {},
     "output_type": "execute_result"
    }
   ],
   "source": [
    "scaled_data"
   ]
  },
  {
   "cell_type": "code",
   "execution_count": 21,
   "metadata": {},
   "outputs": [
    {
     "data": {
      "text/plain": [
       "array([[1.        , 0.45      , 0.4562212 , 0.80597015, 0.17647059,\n",
       "        0.47222222, 0.32976445, 0.90163934, 0.61860465, 0.33333333,\n",
       "        0.83870968, 0.92440605, 0.08333333, 0.38461538, 0.37341772,\n",
       "        0.70588235, 0.56521739],\n",
       "       [0.94871795, 0.        , 1.        , 1.        , 1.        ,\n",
       "        1.        , 0.65952891, 1.        , 1.        , 0.48484848,\n",
       "        1.        , 1.        , 1.        , 1.        , 0.        ,\n",
       "        1.        , 1.        ],\n",
       "       [0.94871795, 0.375     , 0.75576037, 0.43283582, 0.        ,\n",
       "        0.22222222, 0.        , 0.2295082 , 0.29302326, 1.        ,\n",
       "        0.09677419, 0.6112311 , 0.        , 0.23076923, 1.        ,\n",
       "        0.95      , 0.91304348],\n",
       "       [0.        , 1.        , 0.        , 0.        , 0.49019608,\n",
       "        0.        , 1.        , 0.        , 0.        , 0.        ,\n",
       "        0.        , 0.        , 0.26666667, 0.        , 0.79113924,\n",
       "        0.        , 0.        ]])"
      ]
     },
     "execution_count": 21,
     "metadata": {},
     "output_type": "execute_result"
    }
   ],
   "source": [
    "# NOTE the shape should be 17 columns by 4 rows."
   ]
  },
  {
   "cell_type": "markdown",
   "metadata": {},
   "source": [
    "**TASK: Fit the autoencoder to the scaled data for 15 epochs.**"
   ]
  },
  {
   "cell_type": "code",
   "execution_count": 41,
   "metadata": {},
   "outputs": [
    {
     "name": "stdout",
     "output_type": "stream",
     "text": [
      "Epoch 1/15\n",
      "1/1 [==============================] - 0s 313ms/step - loss: 0.4156\n",
      "Epoch 2/15\n",
      "1/1 [==============================] - 0s 2ms/step - loss: 0.3602\n",
      "Epoch 3/15\n",
      "1/1 [==============================] - 0s 3ms/step - loss: 0.3239\n",
      "Epoch 4/15\n",
      "1/1 [==============================] - 0s 3ms/step - loss: 0.3037\n",
      "Epoch 5/15\n",
      "1/1 [==============================] - 0s 3ms/step - loss: 0.2966\n",
      "Epoch 6/15\n",
      "1/1 [==============================] - 0s 3ms/step - loss: 0.2926\n",
      "Epoch 7/15\n",
      "1/1 [==============================] - 0s 3ms/step - loss: 0.2901\n",
      "Epoch 8/15\n",
      "1/1 [==============================] - 0s 4ms/step - loss: 0.2883\n",
      "Epoch 9/15\n",
      "1/1 [==============================] - 0s 3ms/step - loss: 0.2868\n",
      "Epoch 10/15\n",
      "1/1 [==============================] - 0s 4ms/step - loss: 0.2855\n",
      "Epoch 11/15\n",
      "1/1 [==============================] - 0s 3ms/step - loss: 0.2776\n",
      "Epoch 12/15\n",
      "1/1 [==============================] - 0s 4ms/step - loss: 0.2686\n",
      "Epoch 13/15\n",
      "1/1 [==============================] - 0s 3ms/step - loss: 0.2466\n",
      "Epoch 14/15\n",
      "1/1 [==============================] - 0s 4ms/step - loss: 0.2363\n",
      "Epoch 15/15\n",
      "1/1 [==============================] - 0s 4ms/step - loss: 0.2314\n"
     ]
    },
    {
     "data": {
      "text/plain": [
       "<keras.callbacks.History at 0x1bc2aa3c940>"
      ]
     },
     "execution_count": 41,
     "metadata": {},
     "output_type": "execute_result"
    }
   ],
   "source": [
    "autoencoder.fit(scaled_data,scaled_data,epochs=15)"
   ]
  },
  {
   "cell_type": "code",
   "execution_count": 23,
   "metadata": {},
   "outputs": [
    {
     "name": "stdout",
     "output_type": "stream",
     "text": [
      "Train on 4 samples\n",
      "Epoch 1/15\n",
      "4/4 [==============================] - 1s 139ms/sample - loss: 0.4271\n",
      "Epoch 2/15\n",
      "4/4 [==============================] - 0s 249us/sample - loss: 0.3847\n",
      "Epoch 3/15\n",
      "4/4 [==============================] - 0s 249us/sample - loss: 0.2931\n",
      "Epoch 4/15\n",
      "4/4 [==============================] - 0s 249us/sample - loss: 0.2485\n",
      "Epoch 5/15\n",
      "4/4 [==============================] - 0s 249us/sample - loss: 0.2284\n",
      "Epoch 6/15\n",
      "4/4 [==============================] - 0s 230us/sample - loss: 0.2202\n",
      "Epoch 7/15\n",
      "4/4 [==============================] - 0s 755us/sample - loss: 0.2160\n",
      "Epoch 8/15\n",
      "4/4 [==============================] - 0s 248us/sample - loss: 0.2101\n",
      "Epoch 9/15\n",
      "4/4 [==============================] - 0s 249us/sample - loss: 0.2065\n",
      "Epoch 10/15\n",
      "4/4 [==============================] - 0s 498us/sample - loss: 0.2037\n",
      "Epoch 11/15\n",
      "4/4 [==============================] - 0s 250us/sample - loss: 0.2028\n",
      "Epoch 12/15\n",
      "4/4 [==============================] - 0s 498us/sample - loss: 0.1995\n",
      "Epoch 13/15\n",
      "4/4 [==============================] - 0s 249us/sample - loss: 0.1970\n",
      "Epoch 14/15\n",
      "4/4 [==============================] - 0s 488us/sample - loss: 0.1935\n",
      "Epoch 15/15\n",
      "4/4 [==============================] - 0s 498us/sample - loss: 0.1900\n"
     ]
    },
    {
     "data": {
      "text/plain": [
       "<tensorflow.python.keras.callbacks.History at 0x161edb801c8>"
      ]
     },
     "execution_count": 23,
     "metadata": {},
     "output_type": "execute_result"
    }
   ],
   "source": []
  },
  {
   "cell_type": "markdown",
   "metadata": {},
   "source": [
    "**TASK: Run the scaled data through only the encoder and predict the reduced dimensionalty output. Note: You will most likely get different results than us due to random initialiations.**"
   ]
  },
  {
   "cell_type": "code",
   "execution_count": 42,
   "metadata": {},
   "outputs": [
    {
     "name": "stdout",
     "output_type": "stream",
     "text": [
      "1/1 [==============================] - 0s 76ms/step\n"
     ]
    }
   ],
   "source": [
    "pred = encoder.predict(scaled_data)"
   ]
  },
  {
   "cell_type": "code",
   "execution_count": 45,
   "metadata": {},
   "outputs": [
    {
     "data": {
      "text/plain": [
       "array([[0.0000000e+00, 1.6523298e+00],\n",
       "       [0.0000000e+00, 3.0941133e+00],\n",
       "       [0.0000000e+00, 1.8553656e+00],\n",
       "       [2.4385480e-03, 2.7262461e-01]], dtype=float32)"
      ]
     },
     "execution_count": 45,
     "metadata": {},
     "output_type": "execute_result"
    }
   ],
   "source": [
    "pred"
   ]
  },
  {
   "cell_type": "code",
   "execution_count": 30,
   "metadata": {},
   "outputs": [
    {
     "data": {
      "text/plain": [
       "array([[1.0482036 , 0.        ],\n",
       "       [1.2070727 , 0.        ],\n",
       "       [1.1669513 , 0.        ],\n",
       "       [0.05854838, 0.        ]], dtype=float32)"
      ]
     },
     "execution_count": 30,
     "metadata": {},
     "output_type": "execute_result"
    }
   ],
   "source": []
  },
  {
   "cell_type": "markdown",
   "metadata": {},
   "source": [
    "**TASK: Join the encoded 2 dimensional data with the original countries index. Triple check the index order to make sure its joined correctly. There are many ways to do this with pandas.**"
   ]
  },
  {
   "cell_type": "code",
   "execution_count": 57,
   "metadata": {},
   "outputs": [
    {
     "data": {
      "text/html": [
       "<div>\n",
       "<style scoped>\n",
       "    .dataframe tbody tr th:only-of-type {\n",
       "        vertical-align: middle;\n",
       "    }\n",
       "\n",
       "    .dataframe tbody tr th {\n",
       "        vertical-align: top;\n",
       "    }\n",
       "\n",
       "    .dataframe thead th {\n",
       "        text-align: right;\n",
       "    }\n",
       "</style>\n",
       "<table border=\"1\" class=\"dataframe\">\n",
       "  <thead>\n",
       "    <tr style=\"text-align: right;\">\n",
       "      <th></th>\n",
       "      <th>index</th>\n",
       "      <th>C1</th>\n",
       "      <th>C2</th>\n",
       "    </tr>\n",
       "  </thead>\n",
       "  <tbody>\n",
       "    <tr>\n",
       "      <th>0</th>\n",
       "      <td>England</td>\n",
       "      <td>0.000000</td>\n",
       "      <td>1.652330</td>\n",
       "    </tr>\n",
       "    <tr>\n",
       "      <th>1</th>\n",
       "      <td>Wales</td>\n",
       "      <td>0.000000</td>\n",
       "      <td>3.094113</td>\n",
       "    </tr>\n",
       "    <tr>\n",
       "      <th>2</th>\n",
       "      <td>Scotland</td>\n",
       "      <td>0.000000</td>\n",
       "      <td>1.855366</td>\n",
       "    </tr>\n",
       "    <tr>\n",
       "      <th>3</th>\n",
       "      <td>N.Ireland</td>\n",
       "      <td>0.002439</td>\n",
       "      <td>0.272625</td>\n",
       "    </tr>\n",
       "  </tbody>\n",
       "</table>\n",
       "</div>"
      ],
      "text/plain": [
       "       index        C1        C2\n",
       "0    England  0.000000  1.652330\n",
       "1      Wales  0.000000  3.094113\n",
       "2   Scotland  0.000000  1.855366\n",
       "3  N.Ireland  0.002439  0.272625"
      ]
     },
     "execution_count": 57,
     "metadata": {},
     "output_type": "execute_result"
    }
   ],
   "source": [
    "d = pd.DataFrame(data=pred,index=df.transpose().index,columns=['C1','C2']).reset_index()\n",
    "d"
   ]
  },
  {
   "cell_type": "code",
   "execution_count": 25,
   "metadata": {},
   "outputs": [
    {
     "data": {
      "text/plain": [
       "Index(['England', 'Wales', 'Scotland', 'N.Ireland'], dtype='object')"
      ]
     },
     "execution_count": 25,
     "metadata": {},
     "output_type": "execute_result"
    }
   ],
   "source": []
  },
  {
   "cell_type": "code",
   "execution_count": 37,
   "metadata": {},
   "outputs": [
    {
     "data": {
      "text/html": [
       "<div>\n",
       "<style scoped>\n",
       "    .dataframe tbody tr th:only-of-type {\n",
       "        vertical-align: middle;\n",
       "    }\n",
       "\n",
       "    .dataframe tbody tr th {\n",
       "        vertical-align: top;\n",
       "    }\n",
       "\n",
       "    .dataframe thead th {\n",
       "        text-align: right;\n",
       "    }\n",
       "</style>\n",
       "<table border=\"1\" class=\"dataframe\">\n",
       "  <thead>\n",
       "    <tr style=\"text-align: right;\">\n",
       "      <th></th>\n",
       "      <th>index</th>\n",
       "      <th>C1</th>\n",
       "      <th>C2</th>\n",
       "    </tr>\n",
       "  </thead>\n",
       "  <tbody>\n",
       "    <tr>\n",
       "      <th>0</th>\n",
       "      <td>England</td>\n",
       "      <td>1.048204</td>\n",
       "      <td>0.0</td>\n",
       "    </tr>\n",
       "    <tr>\n",
       "      <th>1</th>\n",
       "      <td>Wales</td>\n",
       "      <td>1.207073</td>\n",
       "      <td>0.0</td>\n",
       "    </tr>\n",
       "    <tr>\n",
       "      <th>2</th>\n",
       "      <td>Scotland</td>\n",
       "      <td>1.166951</td>\n",
       "      <td>0.0</td>\n",
       "    </tr>\n",
       "    <tr>\n",
       "      <th>3</th>\n",
       "      <td>N.Ireland</td>\n",
       "      <td>0.058548</td>\n",
       "      <td>0.0</td>\n",
       "    </tr>\n",
       "  </tbody>\n",
       "</table>\n",
       "</div>"
      ],
      "text/plain": [
       "       index        C1   C2\n",
       "0    England  1.048204  0.0\n",
       "1      Wales  1.207073  0.0\n",
       "2   Scotland  1.166951  0.0\n",
       "3  N.Ireland  0.058548  0.0"
      ]
     },
     "execution_count": 37,
     "metadata": {},
     "output_type": "execute_result"
    }
   ],
   "source": []
  },
  {
   "cell_type": "markdown",
   "metadata": {},
   "source": [
    "**TASK: Now plot out these results in a scatterplot, labeled by their respective country. You should see N. Ireland further away from the other points (but not necessarily to the left or the right, could be centered further away from the others).**"
   ]
  },
  {
   "cell_type": "code",
   "execution_count": 59,
   "metadata": {},
   "outputs": [
    {
     "data": {
      "text/plain": [
       "<AxesSubplot:xlabel='C1', ylabel='C2'>"
      ]
     },
     "execution_count": 59,
     "metadata": {},
     "output_type": "execute_result"
    },
    {
     "data": {
      "image/png": "[encoded data removed]",
      "text/plain": [
       "<Figure size 432x288 with 1 Axes>"
      ]
     },
     "metadata": {
      "needs_background": "light"
     },
     "output_type": "display_data"
    }
   ],
   "source": [
    "sns.scatterplot(data=d,x='C1',y='C2',hue='index')"
   ]
  },
  {
   "cell_type": "code",
   "execution_count": 28,
   "metadata": {},
   "outputs": [
    {
     "data": {
      "text/plain": [
       "<matplotlib.axes._subplots.AxesSubplot at 0x161ed730508>"
      ]
     },
     "execution_count": 28,
     "metadata": {},
     "output_type": "execute_result"
    },
    {
     "data": {
      "image/png": "[encoded data removed]",
      "text/plain": [
       "<Figure size 432x288 with 1 Axes>"
      ]
     },
     "metadata": {
      "needs_background": "light"
     },
     "output_type": "display_data"
    }
   ],
   "source": []
  },
  {
   "cell_type": "markdown",
   "metadata": {},
   "source": [
    " Once we go back and look at the data in the table, this makes sense: the Northern Irish eat way more grams of fresh potatoes and way fewer of fresh fruits, cheese, fish and alcoholic drinks. It's a good sign that structure we've visualized reflects a big fact of real-world geography: Northern Ireland is the only of the four countries not on the island of Great Britain. (If you're confused about the differences among England, the UK and Great Britain, see: this [video](https://www.youtube.com/watch?v=rNu8XDBSn10).)"
   ]
  }
 ],
 "metadata": {
  "kernelspec": {
   "display_name": "Python 3 (ipykernel)",
   "language": "python",
   "name": "python3"
  },
  "language_info": {
   "codemirror_mode": {
    "name": "ipython",
    "version": 3
   },
   "file_extension": ".py",
   "mimetype": "text/x-python",
   "name": "python",
   "nbconvert_exporter": "python",
   "pygments_lexer": "ipython3",
   "version": "3.9.12"
  }
 },
 "nbformat": 4,
 "nbformat_minor": 2
}
